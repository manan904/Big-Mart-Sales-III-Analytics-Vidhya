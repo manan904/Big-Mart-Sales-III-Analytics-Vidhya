{
 "cells": [
  {
   "cell_type": "code",
   "execution_count": 8,
   "metadata": {
    "collapsed": true
   },
   "outputs": [],
   "source": [
    "import numpy as np \n",
    "import pandas as pd \n",
    "import matplotlib.pyplot as plt \n",
    "%matplotlib inline \n",
    "from sklearn import preprocessing \n",
    "from sklearn.metrics import mean_squared_error\n",
    "from sklearn.model_selection import train_test_split\n",
    "train=pd.read_csv('train.csv')\n",
    "test=pd.read_csv('test.csv')\n",
    "number = preprocessing.LabelEncoder()\n",
    "train['Item_Weight'].fillna((train['Item_Weight'].mean()), inplace=True)\n",
    "test['Item_Weight'].fillna((test['Item_Weight'].mean()), inplace=True)\n",
    "train['Item_Fat_Content'] = train['Item_Fat_Content'].replace(['low fat','LF'], ['Low Fat','Low Fat']) \n",
    "train['Item_Fat_Content'] = train['Item_Fat_Content'].replace(['reg'], ['Regular']) \n",
    "test['Item_Fat_Content'] = test['Item_Fat_Content'].replace(['low fat','LF'], ['Low Fat','Low Fat']) \n",
    "test['Item_Fat_Content'] = test['Item_Fat_Content'].replace(['reg'], ['Regular']) \n",
    "train['Outlet_Establishment_Year'] = 2013 - train['Outlet_Establishment_Year'] \n",
    "test['Outlet_Establishment_Year'] = 2013 - test['Outlet_Establishment_Year'] \n",
    "\n",
    "train['Outlet_Size'].fillna('Small',inplace=True)"
   ]
  },
  {
   "cell_type": "code",
   "execution_count": 9,
   "metadata": {},
   "outputs": [
    {
     "name": "stderr",
     "output_type": "stream",
     "text": [
      "/Users/mananmanwani/anaconda3/lib/python3.6/site-packages/ipykernel_launcher.py:14: SettingWithCopyWarning: \n",
      "A value is trying to be set on a copy of a slice from a DataFrame\n",
      "\n",
      "See the caveats in the documentation: http://pandas.pydata.org/pandas-docs/stable/indexing.html#indexing-view-versus-copy\n",
      "  \n"
     ]
    },
    {
     "name": "stdout",
     "output_type": "stream",
     "text": [
      "Warning: xgboost.XGBRegressor is not available and will not be used by TPOT.\n"
     ]
    },
    {
     "name": "stderr",
     "output_type": "stream",
     "text": [
      "Optimization Progress:  33%|███▎      | 100/300 [03:10<08:38,  2.59s/pipeline]"
     ]
    },
    {
     "name": "stdout",
     "output_type": "stream",
     "text": [
      "Generation 1 - Current best internal CV score: -1174663.9938905246\n"
     ]
    },
    {
     "name": "stderr",
     "output_type": "stream",
     "text": [
      "Optimization Progress:  50%|█████     | 150/300 [04:47<06:24,  2.56s/pipeline]"
     ]
    },
    {
     "name": "stdout",
     "output_type": "stream",
     "text": [
      "Generation 2 - Current best internal CV score: -1172859.9550647547\n"
     ]
    },
    {
     "name": "stderr",
     "output_type": "stream",
     "text": [
      "Optimization Progress:  67%|██████▋   | 200/300 [07:11<03:49,  2.29s/pipeline]"
     ]
    },
    {
     "name": "stdout",
     "output_type": "stream",
     "text": [
      "Generation 3 - Current best internal CV score: -1172859.716612581\n"
     ]
    },
    {
     "name": "stderr",
     "output_type": "stream",
     "text": [
      "Optimization Progress:  83%|████████▎ | 250/300 [11:42<01:53,  2.27s/pipeline]"
     ]
    },
    {
     "name": "stdout",
     "output_type": "stream",
     "text": [
      "Generation 4 - Current best internal CV score: -1170289.316149493\n"
     ]
    },
    {
     "name": "stderr",
     "output_type": "stream",
     "text": [
      "                                                                              \r"
     ]
    },
    {
     "name": "stdout",
     "output_type": "stream",
     "text": [
      "Generation 5 - Current best internal CV score: -1167364.2299927273\n",
      "\n",
      "Best pipeline: ExtraTreesRegressor(VarianceThreshold(input_matrix, threshold=0.5), bootstrap=True, max_features=0.85, min_samples_leaf=16, min_samples_split=2, n_estimators=100)\n",
      "-1142279.46468\n"
     ]
    },
    {
     "data": {
      "text/plain": [
       "True"
      ]
     },
     "execution_count": 9,
     "metadata": {},
     "output_type": "execute_result"
    }
   ],
   "source": [
    "test['Outlet_Size'].fillna('Small',inplace=True)\n",
    "\n",
    "train['Item_Visibility'] = np.sqrt(train['Item_Visibility'])\n",
    "test['Item_Visibility'] = np.sqrt(test['Item_Visibility'])\n",
    "\n",
    "col = ['Outlet_Size','Outlet_Location_Type','Outlet_Type','Item_Fat_Content']\n",
    "test['Item_Outlet_Sales'] = 0\n",
    "combi = train.append(test)\n",
    "for i in col:\n",
    " combi[i] = number.fit_transform(combi[i].astype('str'))\n",
    " combi[i] = combi[i].astype('object')\n",
    "train = combi[:train.shape[0]]\n",
    "test = combi[train.shape[0]:]\n",
    "test.drop('Item_Outlet_Sales',axis=1,inplace=True)\n",
    "\n",
    "tpot_train = train.drop(['Outlet_Identifier','Item_Type','Item_Identifier'],axis=1)\n",
    "tpot_test = test.drop(['Outlet_Identifier','Item_Type','Item_Identifier'],axis=1)\n",
    "target = tpot_train['Item_Outlet_Sales']\n",
    "tpot_train.drop('Item_Outlet_Sales',axis=1,inplace=True)\n",
    "\n",
    "from tpot import TPOTRegressor\n",
    "X_train, X_test, y_train, y_test = train_test_split(tpot_train, target,\n",
    " train_size=0.75, test_size=0.25)\n",
    "\n",
    "tpot = TPOTRegressor(generations=5, population_size=50, verbosity=2)\n",
    "tpot.fit(X_train, y_train)\n",
    "print(tpot.score(X_test, y_test))\n",
    "tpot.export('tpot_boston_pipeline.py')"
   ]
  },
  {
   "cell_type": "code",
   "execution_count": 10,
   "metadata": {
    "collapsed": true
   },
   "outputs": [],
   "source": [
    "tpot_pred = tpot.predict(tpot_test)\n",
    "sub1 = pd.DataFrame(data=tpot_pred)\n",
    "sub1 = sub1.rename(columns = {'0':'Item_Outlet_Sales'})\n",
    "sub1['Item_Identifier'] = test['Item_Identifier']\n",
    "sub1['Outlet_Identifier'] = test['Outlet_Identifier']\n",
    "sub1.columns = ['Item_Outlet_Sales','Item_Identifier','Outlet_Identifier']\n",
    "sub1 = sub1[['Item_Identifier','Outlet_Identifier','Item_Outlet_Sales']]\n",
    "sub1.to_csv('tpot.csv',index=False)"
   ]
  },
  {
   "cell_type": "code",
   "execution_count": null,
   "metadata": {
    "collapsed": true
   },
   "outputs": [],
   "source": []
  }
 ],
 "metadata": {
  "kernelspec": {
   "display_name": "Python 3",
   "language": "python",
   "name": "python3"
  },
  "language_info": {
   "codemirror_mode": {
    "name": "ipython",
    "version": 3
   },
   "file_extension": ".py",
   "mimetype": "text/x-python",
   "name": "python",
   "nbconvert_exporter": "python",
   "pygments_lexer": "ipython3",
   "version": "3.6.3"
  }
 },
 "nbformat": 4,
 "nbformat_minor": 2
}
